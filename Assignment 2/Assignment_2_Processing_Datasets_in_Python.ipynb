{
  "nbformat": 4,
  "nbformat_minor": 0,
  "metadata": {
    "colab": {
      "provenance": [],
      "authorship_tag": "ABX9TyNDlrE7NLuL1dqh5rdt/hbo",
      "include_colab_link": true
    },
    "kernelspec": {
      "name": "python3",
      "display_name": "Python 3"
    },
    "language_info": {
      "name": "python"
    }
  },
  "cells": [
    {
      "cell_type": "markdown",
      "metadata": {
        "id": "view-in-github",
        "colab_type": "text"
      },
      "source": [
        "<a href=\"https://colab.research.google.com/github/jorgegzz1609-collab/AI_IB/blob/main/Assignment%202/Assignment_2_Processing_Datasets_in_Python.ipynb\" target=\"_parent\"><img src=\"https://colab.research.google.com/assets/colab-badge.svg\" alt=\"Open In Colab\"/></a>"
      ]
    },
    {
      "cell_type": "markdown",
      "source": [
        "First, we import the libraries."
      ],
      "metadata": {
        "id": "X65bVzgx9Vm1"
      }
    },
    {
      "cell_type": "code",
      "source": [
        "# Importation of libraries\n",
        "import matplotlib.pyplot as plt\n",
        "import pandas as pd\n",
        "import numpy as np"
      ],
      "metadata": {
        "id": "HPmVE9e09a5G"
      },
      "execution_count": 1,
      "outputs": []
    },
    {
      "cell_type": "markdown",
      "source": [
        "# Part 1: Data Loading and Exploration"
      ],
      "metadata": {
        "id": "wgtQgjgZ9wue"
      }
    },
    {
      "cell_type": "markdown",
      "source": [
        "Load the dataset using Pandas."
      ],
      "metadata": {
        "id": "ne9Sllza96vu"
      }
    },
    {
      "cell_type": "code",
      "metadata": {
        "id": "8289b5d0"
      },
      "source": [
        "# Source:\n",
        "# Load data from a CSV file\n",
        "df = pd.read_csv('/content/real_estate.csv')"
      ],
      "execution_count": null,
      "outputs": []
    }
  ]
}